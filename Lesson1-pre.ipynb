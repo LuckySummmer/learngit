{
 "cells": [
  {
   "cell_type": "markdown",
   "metadata": {},
   "source": [
    "#### 📌 规则：\n",
    "- 变量名由字母/数字/下划线组成，**不可用关键字**（如`for`, `if`）\n",
    "- 常见类型：整数`int`、浮点数`float`、字符串`str`、布尔值`bool`"
   ]
  },
  {
   "cell_type": "code",
   "execution_count": null,
   "metadata": {},
   "outputs": [
    {
     "name": "stdout",
     "output_type": "stream",
     "text": [
      "<class 'int'> <class 'str'>\n"
     ]
    }
   ],
   "source": [
    "age = 25\n",
    "price = 9.99\n",
    "name = \"John\"\n",
    "is_adult = True\n",
    "\n",
    "print(type(age), type(name))"
   ]
  },
  {
   "cell_type": "code",
   "execution_count": 7,
   "metadata": {},
   "outputs": [
    {
     "name": "stdout",
     "output_type": "stream",
     "text": [
      "我今年25岁\n"
     ]
    }
   ],
   "source": [
    "message = \"我今年\" + str(age) + \"岁\"\n",
    "print(message)"
   ]
  },
  {
   "cell_type": "markdown",
   "metadata": {},
   "source": [
    "#### 📌 重点：\n",
    "- `input()`默认返回字符串，需手动转换类型\n",
    "- **f-string**：用`f\"{变量}\"`嵌入变量，支持格式控制（如`:.2f`保留两位小数）"
   ]
  },
  {
   "cell_type": "code",
   "execution_count": 1,
   "metadata": {},
   "outputs": [
    {
     "name": "stdout",
     "output_type": "stream",
     "text": [
      "你好！你今年17岁，明年你将18岁\n"
     ]
    }
   ],
   "source": [
    "birth_year = int(input(\"请输入你的出生年份：\"))\n",
    "current_year = 2025\n",
    "age = current_year - birth_year\n",
    "\n",
    "# f-string高级用法\n",
    "print(f\"你好！你今年{age}岁，明年你将{age + 1}岁\")  "
   ]
  },
  {
   "cell_type": "code",
   "execution_count": 3,
   "metadata": {},
   "outputs": [
    {
     "name": "stdout",
     "output_type": "stream",
     "text": [
      "2乘3等于6\n"
     ]
    }
   ],
   "source": [
    "a = 2\n",
    "b = 3\n",
    "\n",
    "print(f\"{a}乘{b}等于{a*b}\")"
   ]
  },
  {
   "cell_type": "code",
   "execution_count": null,
   "metadata": {},
   "outputs": [
    {
     "name": "stdout",
     "output_type": "stream",
     "text": [
      "你的BMI是18.5\n"
     ]
    }
   ],
   "source": [
    "# 🎯 练习：输入身高(m)和体重(kg)，用f-string输出BMI值（保留1位小数）\n",
    "# BMI公式：体重 / (身高^2)\n",
    "height = float(input(\"身高（米）：\"))\n",
    "weight = float(input(\"体重（公斤）：\"))\n",
    "bmi = weight / (height ** 2)\n",
    "print(f\"你的BMI是{bmi:.1f}\")"
   ]
  },
  {
   "cell_type": "markdown",
   "metadata": {},
   "source": [
    "#### ⚠️ 易错点：\n",
    "- **缩进**：Python用缩进区分代码块（建议4个空格）\n",
    "- 多条件用`and`/`or`连接，非用`not`"
   ]
  },
  {
   "cell_type": "code",
   "execution_count": null,
   "metadata": {},
   "outputs": [
    {
     "name": "stdout",
     "output_type": "stream",
     "text": [
      "成绩等级：及格\n"
     ]
    }
   ],
   "source": [
    "# 示例代码 ▼\n",
    "score = 78\n",
    "if score >= 90:\n",
    "    grade = \"A\"\n",
    "elif score >= 60:\n",
    "    grade = \"及格\"\n",
    "else:\n",
    "    grade = \"不及格\"\n",
    "\n",
    "print(f\"成绩等级：{grade}\")"
   ]
  },
  {
   "cell_type": "code",
   "execution_count": null,
   "metadata": {},
   "outputs": [
    {
     "name": "stdout",
     "output_type": "stream",
     "text": [
      "偶数\n"
     ]
    }
   ],
   "source": [
    "# 判断一个数是否为偶数\n",
    "num = int(input(\"输入整数：\"))\n",
    "if num % 2 == 0:  # 余数为0则是偶数\n",
    "    print(\"偶数\")\n",
    "else:\n",
    "    print(\"奇数\")"
   ]
  },
  {
   "cell_type": "markdown",
   "metadata": {},
   "source": [
    "#### 🔄 对比：\n",
    "- `for`循环：遍历已知序列（如列表、字符串）\n",
    "- `while`循环：在条件为真时重复执行"
   ]
  },
  {
   "cell_type": "code",
   "execution_count": null,
   "metadata": {},
   "outputs": [
    {
     "name": "stdout",
     "output_type": "stream",
     "text": [
      "我喜欢吃苹果\n",
      "我喜欢吃香蕉\n",
      "我喜欢吃芒果\n",
      "这是第 1 次循环\n",
      "这是第 2 次循环\n",
      "这是第 3 次循环\n"
     ]
    }
   ],
   "source": [
    "# for循环遍历列表\n",
    "fruits = [\"苹果\", \"香蕉\", \"芒果\"]\n",
    "for fruit in fruits:\n",
    "    print(f\"我喜欢吃{fruit}\")\n",
    "\n",
    "# while循环计数器\n",
    "count = 0\n",
    "while count < 3:\n",
    "    print(\"这是第\", count+1, \"次循环\")\n",
    "    count += 1  # 修改条件变量，避免死循环"
   ]
  },
  {
   "cell_type": "code",
   "execution_count": null,
   "metadata": {},
   "outputs": [
    {
     "name": "stdout",
     "output_type": "stream",
     "text": [
      "55\n"
     ]
    }
   ],
   "source": [
    "# 用for循环计算1-10的和（答案：55）\n",
    "total = 0\n",
    "for i in range(1, 11):  # range含头不含尾\n",
    "    total += i\n",
    "print(total)"
   ]
  },
  {
   "cell_type": "markdown",
   "metadata": {},
   "source": [
    "#### 📚 核心操作：\n",
    "- **列表**：`append()`添加元素，`pop()`删除元素，切片`list[start:end]`\n",
    "- **字典**：`dict[key] = value` 添加/修改键值对"
   ]
  },
  {
   "cell_type": "code",
   "execution_count": null,
   "metadata": {},
   "outputs": [
    {
     "name": "stdout",
     "output_type": "stream",
     "text": [
      "['green', 'blue']\n",
      "20\n"
     ]
    }
   ],
   "source": [
    "# 列表操作\n",
    "colors = [\"red\", \"green\"]\n",
    "colors.append(\"blue\")  # 添加元素\n",
    "print(colors[1:3])     # 输出：['green', 'blue']\n",
    "\n",
    "# 字典操作\n",
    "student = {\"name\": \"Alice\", \"age\": 20}\n",
    "student[\"major\"] = \"CS\"  # 新增键值对\n",
    "print(student.get(\"age\", \"未知\"))  # 安全获取值 关于get()的用法，我平时比较少用到"
   ]
  },
  {
   "cell_type": "code",
   "execution_count": null,
   "metadata": {},
   "outputs": [
    {
     "data": {
      "text/plain": [
       "[3, 0, 5, 0, 8]"
      ]
     },
     "execution_count": 5,
     "metadata": {},
     "output_type": "execute_result"
    }
   ],
   "source": [
    "# 🎯 将以下列表中的负数替换为0\n",
    "numbers = [3, -1, 5, -2, 8]\n",
    "\n",
    "new_numbers = []\n",
    "for i in numbers:\n",
    "    if i < 0:\n",
    "        new_numbers.append(0)\n",
    "    else:\n",
    "        new_numbers.append(i)\n",
    "\n",
    "numbers = new_numbers"
   ]
  },
  {
   "cell_type": "markdown",
   "metadata": {},
   "source": [
    "#### 🎯 关键概念：\n",
    "- `def`定义函数，`return`返回值（默认返回`None`）\n",
    "- **默认参数**：`def func(a=5)`，默认值只计算一次！"
   ]
  },
  {
   "cell_type": "code",
   "execution_count": null,
   "metadata": {},
   "outputs": [
    {
     "name": "stdout",
     "output_type": "stream",
     "text": [
      "12.56\n",
      "28.27431\n"
     ]
    }
   ],
   "source": [
    "import math\n",
    "\n",
    "def calculate_area(radius, pi=math.pi):\n",
    "    return pi * (radius ** 2)\n",
    "\n",
    "print(calculate_area(2))      # 使用默认pi：12.56\n",
    "print(calculate_area(3, 3.14159))  # 自定义pi：28.27431"
   ]
  },
  {
   "cell_type": "code",
   "execution_count": 7,
   "metadata": {},
   "outputs": [
    {
     "data": {
      "text/plain": [
       "False"
      ]
     },
     "execution_count": 7,
     "metadata": {},
     "output_type": "execute_result"
    }
   ],
   "source": [
    "# 🎯 练习：编写函数判断是否为闰年\n",
    "# 闰年规则：能被4整除但不能被100整除，或能被400整除\n",
    "def is_leap_year(year):\n",
    "    if year % 4 == 0 and year % 100 != 0:\n",
    "        return True\n",
    "    elif year % 400 == 0:\n",
    "        return True\n",
    "    else:\n",
    "        return False\n",
    "\n",
    "is_leap_year(2002)"
   ]
  }
 ],
 "metadata": {
  "kernelspec": {
   "display_name": "Python (transformers)",
   "language": "python",
   "name": "transformers"
  },
  "language_info": {
   "codemirror_mode": {
    "name": "ipython",
    "version": 3
   },
   "file_extension": ".py",
   "mimetype": "text/x-python",
   "name": "python",
   "nbconvert_exporter": "python",
   "pygments_lexer": "ipython3",
   "version": "3.9.21"
  }
 },
 "nbformat": 4,
 "nbformat_minor": 2
}
